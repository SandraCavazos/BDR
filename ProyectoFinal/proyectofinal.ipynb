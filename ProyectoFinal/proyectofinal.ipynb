{
 "cells": [
  {
   "cell_type": "markdown",
   "metadata": {},
   "source": [
    "# Proyecto final"
   ]
  },
  {
   "cell_type": "markdown",
   "metadata": {},
   "source": [
    "### Datos geolocalizados"
   ]
  },
  {
   "cell_type": "markdown",
   "metadata": {},
   "source": [
    "Se instalan librerías necesarias."
   ]
  },
  {
   "cell_type": "code",
   "execution_count": null,
   "metadata": {},
   "outputs": [],
   "source": [
    "pip install mysql-connector-python pandas folium"
   ]
  },
  {
   "cell_type": "markdown",
   "metadata": {},
   "source": [
    "Se importan librerías necesarias. La librería folium es la que creará los puntos en el mapa."
   ]
  },
  {
   "cell_type": "code",
   "execution_count": 11,
   "metadata": {},
   "outputs": [],
   "source": [
    "import mysql.connector\n",
    "import pandas as pd\n",
    "import folium"
   ]
  },
  {
   "cell_type": "markdown",
   "metadata": {},
   "source": [
    "Se realiza la conexión a la base de datos de las coordenadas."
   ]
  },
  {
   "cell_type": "code",
   "execution_count": 7,
   "metadata": {},
   "outputs": [],
   "source": [
    "host = \"localhost\"\n",
    "user = \"sandracavazos\"\n",
    "password = \"**************\"\n",
    "database = \"coordenadas\" \n",
    "\n",
    "connection = mysql.connector.connect(\n",
    "        host=host,\n",
    "        user=user,\n",
    "        password=password,\n",
    "        database=database\n",
    "    )"
   ]
  },
  {
   "cell_type": "markdown",
   "metadata": {},
   "source": [
    "Se guardan las coordenadas en df de pandas."
   ]
  },
  {
   "cell_type": "code",
   "execution_count": 9,
   "metadata": {},
   "outputs": [],
   "source": [
    "# funcion que recibe de parametro el query y guarda las bases de datos en dataframes de pandas\n",
    "def execute_query(sql_query):\n",
    "    cursor = connection.cursor()\n",
    "    cursor.execute(sql_query)\n",
    "    columns = [col[0] for col in cursor.description]\n",
    "    data = cursor.fetchall()\n",
    "    df = pd.DataFrame(data, columns=columns)\n",
    "    cursor.close()\n",
    "    return df\n",
    "\n",
    "# se utiliza la funcion para cada tabla\n",
    "df = execute_query(\"SELECT * FROM coord\")"
   ]
  },
  {
   "cell_type": "markdown",
   "metadata": {},
   "source": [
    "Si se tiene un punto en específico que se desea marcar..."
   ]
  },
  {
   "cell_type": "code",
   "execution_count": 15,
   "metadata": {},
   "outputs": [],
   "source": [
    "# latitud y longitud\n",
    "latitudes = [25.6776379]\n",
    "longitudes = [-100.3189185]\n",
    "\n",
    "# objeto de mapa centrado en las coordenadas \n",
    "mapa1 = folium.Map(location=[25.6776379, -100.3189185], zoom_start=15)\n",
    "\n",
    "# marcadores para cada punto en el mapa\n",
    "for lat, lon in zip(latitudes, longitudes):\n",
    "    folium.Marker([lat, lon]).add_to(mapa1)\n",
    "\n",
    "# guardar mapa\n",
    "mapa1.save(\"mapa1.html\")\n"
   ]
  },
  {
   "cell_type": "markdown",
   "metadata": {},
   "source": [
    "Cuando se busca marcar puntos desde el df."
   ]
  },
  {
   "cell_type": "code",
   "execution_count": 16,
   "metadata": {},
   "outputs": [],
   "source": [
    "# objeto de mapa centrado en las coordenadas\n",
    "mapa = folium.Map(location=[df['latitud'].iloc[0], df['longitud'].iloc[0]], zoom_start=5)\n",
    "\n",
    "# marcadores para cada punto en el DataFrame\n",
    "for index, row in df.iterrows():\n",
    "    folium.Marker([row['latitud'], row['longitud']]).add_to(mapa)\n",
    "\n",
    "# guardar el mapa\n",
    "mapa.save(\"mapa.html\")\n"
   ]
  }
 ],
 "metadata": {
  "kernelspec": {
   "display_name": "Python 3",
   "language": "python",
   "name": "python3"
  },
  "language_info": {
   "codemirror_mode": {
    "name": "ipython",
    "version": 3
   },
   "file_extension": ".py",
   "mimetype": "text/x-python",
   "name": "python",
   "nbconvert_exporter": "python",
   "pygments_lexer": "ipython3",
   "version": "3.11.4"
  },
  "orig_nbformat": 4
 },
 "nbformat": 4,
 "nbformat_minor": 2
}
